{
 "cells": [
  {
   "cell_type": "code",
   "execution_count": 2,
   "id": "0a62dcf6",
   "metadata": {},
   "outputs": [
    {
     "name": "stdout",
     "output_type": "stream",
     "text": [
      "Nhập 1 chuỗi:\n",
      "Chuỗi bạn nhập không đối xứng\n",
      "Tiếp không Thím?(c/k):\n",
      "Nhập 1 chuỗi:\n",
      "Chuỗi bạn nhập đối xứng\n",
      "Tiếp không Thím?(c/k):\n",
      "CÁM ƠN THÍM\n"
     ]
    }
   ],
   "source": [
    "#Câu 1: Kiểm tra chuỗi đối xứng\n",
    "def CheckDoiXung(s):\n",
    "    flag=True\n",
    "    for i in range(len(s)):\n",
    "        if s[i]!=s[len(s)-i-1]:\n",
    "            flag=False\n",
    "        break\n",
    "    return flag\n",
    "def main():\n",
    "    print(\"Nhập 1 chuỗi:\")\n",
    "    s=input()\n",
    "    if(CheckDoiXung(s)):\n",
    "        print(\"Chuỗi bạn nhập đối xứng\")\n",
    "    else:\n",
    "        print(\"Chuỗi bạn nhập không đối xứng\")\n",
    "while True:\n",
    "    main()\n",
    "    print(\"Tiếp không Thím?(c/k):\")\n",
    "    s=input()\n",
    "    if s==\"k\":\n",
    "        break\n",
    "print(\"CÁM ƠN THÍM\")"
   ]
  },
  {
   "cell_type": "code",
   "execution_count": 3,
   "id": "2ae0bfa0",
   "metadata": {},
   "outputs": [
    {
     "name": "stdout",
     "output_type": "stream",
     "text": [
      " Trần Duy Khánh  => 16\n",
      "Trần Duy Khánh => 14\n"
     ]
    }
   ],
   "source": [
    "#Câu 2: Viết chương trình tối ưu chuỗi\n",
    "def ToiUuChuoi(s):\n",
    "    s2=s\n",
    "    s2=s2.strip()\n",
    "    arr=s2.split(' ')\n",
    "    s2=\"\"\n",
    "    for x in arr:\n",
    "        word=x\n",
    "        if len(word.strip())!=0:\n",
    "            s2=s2+word+\" \"\n",
    "    return s2.strip()\n",
    "s=\" Trần Duy Khánh \"\n",
    "print(s,\"=>\",len(s))\n",
    "s=ToiUuChuoi(s)\n",
    "print(s,\"=>\",len(s))"
   ]
  },
  {
   "cell_type": "code",
   "execution_count": 4,
   "id": "67097bc9",
   "metadata": {},
   "outputs": [
    {
     "name": "stdout",
     "output_type": "stream",
     "text": [
      "5\n",
      "7\n",
      "8\n",
      "-2\n",
      "8\n",
      "11\n",
      "-13\n",
      "9\n",
      "10\n",
      "Số chẵn = 4\n",
      "Số âm = 2\n",
      "Số Nguyên tố = 3\n",
      "Trung bình= 4.777777777777778\n"
     ]
    }
   ],
   "source": [
    "#Câu 3: Xử lý Tách chuỗi\n",
    "def CheckPrime(x):\n",
    "    dem=0\n",
    "    for i in range(1,x+1):\n",
    "        if x % i ==0:\n",
    "            dem+=1\n",
    "    return dem==2\n",
    "s=\"5;7;8;-2;8;11;-13;9;10\"\n",
    "arr=s.split(';')\n",
    "sochan=0\n",
    "soam=0\n",
    "sont=0\n",
    "sum=0\n",
    "for x in arr:\n",
    "    print(x)\n",
    "    number=int(x)\n",
    "    if number % 2 ==0:\n",
    "        sochan+=1\n",
    "    if number <0:\n",
    "        soam+=1\n",
    "    if CheckPrime(number):\n",
    "        sont+=1\n",
    "    sum=sum+number\n",
    "print(\"Số chẵn =\",sochan)\n",
    "print(\"Số âm =\",soam)\n",
    "print(\"Số Nguyên tố =\",sont)\n",
    "print(\"Trung bình=\",sum/len(arr))"
   ]
  },
  {
   "cell_type": "code",
   "execution_count": 5,
   "id": "e3988dc8",
   "metadata": {},
   "outputs": [
    {
     "name": "stdout",
     "output_type": "stream",
     "text": [
      "  HELLO PYTHON WORLD  \n",
      "  hello python world  \n",
      "  Hello Python World  \n",
      "Hello Python World\n",
      "['Hello', 'Python', 'World']\n",
      "Hello-Python-World\n",
      "8\n",
      "  Hello Python AI  \n",
      "True\n",
      "True\n",
      "True\n",
      "True\n",
      "True\n",
      "Hello\n",
      "rld  \n",
      "22\n"
     ]
    }
   ],
   "source": [
    "#Câu 4: Các hàm quan trọng trong xử lý chuỗi của Python\n",
    "# Chuỗi mẫu\n",
    "s = \"  Hello Python World  \"\n",
    "\n",
    "# 1. Chuyển đổi chữ hoa / thường\n",
    "print(s.upper())   # HELLO PYTHON WORLD\n",
    "print(s.lower())   # hello python world\n",
    "print(s.title())   # Hello Python World\n",
    "\n",
    "# 2. Xóa khoảng trắng 2 đầu\n",
    "print(s.strip())   # \"Hello Python World\"\n",
    "\n",
    "# 3. Tách chuỗi thành danh sách\n",
    "words = s.split()\n",
    "print(words)       # ['Hello', 'Python', 'World']\n",
    "\n",
    "# 4. Nối chuỗi từ list\n",
    "joined = \"-\".join(words)\n",
    "print(joined)      # Hello-Python-World\n",
    "\n",
    "# 5. Tìm kiếm và thay thế\n",
    "print(s.find(\"Python\"))        # 8 (vị trí bắt đầu)\n",
    "print(s.replace(\"World\", \"AI\"))  # \"  Hello Python AI  \"\n",
    "\n",
    "# 6. Kiểm tra chuỗi\n",
    "print(\"123\".isdigit())   # True\n",
    "print(\"abc\".isalpha())   # True\n",
    "print(\"Hello123\".isalnum())  # True\n",
    "print(\"hello\".islower()) # True\n",
    "print(\"HELLO\".isupper()) # True\n",
    "\n",
    "# 7. Cắt chuỗi (slicing)\n",
    "print(s[2:7])     # \"Hello\"\n",
    "print(s[-5:])     # \"World\"\n",
    "\n",
    "# 8. Độ dài chuỗi\n",
    "print(len(s))     # 21\n"
   ]
  },
  {
   "cell_type": "code",
   "execution_count": 7,
   "id": "762781a9",
   "metadata": {},
   "outputs": [
    {
     "name": "stdout",
     "output_type": "stream",
     "text": [
      "Số chữ IN HOA: 3\n",
      "Số chữ in thường: 9\n",
      "Số chữ số: 0\n",
      "Số ký tự đặc biệt: 0\n",
      "Số khoảng trắng: 3\n",
      "Số nguyên âm: 1\n",
      "Số phụ âm: 11\n"
     ]
    }
   ],
   "source": [
    "#Câu 5: Xử lý chuỗi với các hàm cơ bản\n",
    "def thong_ke_chuoi(s):\n",
    "    # Khởi tạo biến đếm\n",
    "    in_hoa = in_thuong = chu_so = ky_tu_db = 0\n",
    "    khoang_trang = nguyen_am = phu_am = 0\n",
    "\n",
    "    nguyen_am_set = \"aeiouAEIOU\"\n",
    "\n",
    "    for ch in s:\n",
    "        if ch.isupper():\n",
    "            in_hoa += 1\n",
    "        elif ch.islower():\n",
    "            in_thuong += 1\n",
    "\n",
    "        if ch.isdigit():\n",
    "            chu_so += 1\n",
    "        elif not ch.isalnum() and not ch.isspace():\n",
    "            ky_tu_db += 1\n",
    "\n",
    "        if ch.isspace():\n",
    "            khoang_trang += 1\n",
    "\n",
    "        # Kiểm tra nguyên âm / phụ âm\n",
    "        if ch.isalpha():\n",
    "            if ch in nguyen_am_set:\n",
    "                nguyen_am += 1\n",
    "            else:\n",
    "                phu_am += 1\n",
    "\n",
    "    # Xuất kết quả\n",
    "    print(\"Số chữ IN HOA:\", in_hoa)\n",
    "    print(\"Số chữ in thường:\", in_thuong)\n",
    "    print(\"Số chữ số:\", chu_so)\n",
    "    print(\"Số ký tự đặc biệt:\", ky_tu_db)\n",
    "    print(\"Số khoảng trắng:\", khoang_trang)\n",
    "    print(\"Số nguyên âm:\", nguyen_am)\n",
    "    print(\"Số phụ âm:\", phu_am)\n",
    "\n",
    "\n",
    "# --- Chạy chương trình ---\n",
    "chuoi = input(\"Nhập chuỗi: \")\n",
    "thong_ke_chuoi(chuoi)\n"
   ]
  },
  {
   "cell_type": "code",
   "execution_count": 9,
   "id": "5f807c40",
   "metadata": {},
   "outputs": [
    {
     "name": "stdout",
     "output_type": "stream",
     "text": [
      "[-5, -3, -2, -12, -9]\n"
     ]
    }
   ],
   "source": [
    "#Câu 6: Trích lọc số âm trong chuỗi\n",
    "import re\n",
    "\n",
    "def NegativeNumberInStrings(s):\n",
    "    # Regex tìm các số âm (dấu trừ đứng trước và có ít nhất 1 chữ số)\n",
    "    numbers = re.findall(r'-\\d+', s)\n",
    "    return [int(num) for num in numbers]\n",
    "\n",
    "# Test\n",
    "s = \"abc-5xyz-3-2-12k-9l--p\"\n",
    "print(NegativeNumberInStrings(s))  # Output: [-5, -12]\n"
   ]
  },
  {
   "cell_type": "code",
   "execution_count": 11,
   "id": "abecd4c8",
   "metadata": {},
   "outputs": [
    {
     "name": "stdout",
     "output_type": "stream",
     "text": [
      "Trần Duy Khánh\n"
     ]
    }
   ],
   "source": [
    "#Câu 7: Tối ưu chuỗi danh từ\n",
    "def OptimizeName(s):\n",
    "    # Tách các từ bằng split() (tự động loại bỏ khoảng trắng thừa)\n",
    "    words = s.strip().split()\n",
    "    # Viết hoa chữ cái đầu, các chữ còn lại viết thường\n",
    "    words = [word.capitalize() for word in words]\n",
    "    return \" \".join(words)\n",
    "\n",
    "# Test\n",
    "s = \"   Trần   duY     khÁnh   \"\n",
    "print(OptimizeName(s))  # Output: \"Trần Duy KháKh\"\n"
   ]
  },
  {
   "cell_type": "code",
   "execution_count": 12,
   "id": "5eddd20f",
   "metadata": {},
   "outputs": [
    {
     "name": "stdout",
     "output_type": "stream",
     "text": [
      "muabui.mp3\n",
      "muabui\n"
     ]
    }
   ],
   "source": [
    "#Câu 8: Tách lấy tên bài hát\n",
    "import os\n",
    "\n",
    "# Hàm lấy tên file kèm đuôi mở rộng\n",
    "def get_file_with_extension(path):\n",
    "    return os.path.basename(path)\n",
    "\n",
    "# Hàm lấy tên file không có đuôi mở rộng\n",
    "def get_file_without_extension(path):\n",
    "    return os.path.splitext(os.path.basename(path))[0]\n",
    "\n",
    "# Test\n",
    "path = \"d:\\\\music\\\\muabui.mp3\"\n",
    "print(get_file_with_extension(path))   # Output: muabui.mp3\n",
    "print(get_file_without_extension(path))  # Output: muabui\n"
   ]
  }
 ],
 "metadata": {
  "kernelspec": {
   "display_name": "Python 3",
   "language": "python",
   "name": "python3"
  },
  "language_info": {
   "codemirror_mode": {
    "name": "ipython",
    "version": 3
   },
   "file_extension": ".py",
   "mimetype": "text/x-python",
   "name": "python",
   "nbconvert_exporter": "python",
   "pygments_lexer": "ipython3",
   "version": "3.13.7"
  }
 },
 "nbformat": 4,
 "nbformat_minor": 5
}
