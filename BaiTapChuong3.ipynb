{
 "cells": [
  {
   "cell_type": "code",
   "execution_count": 2,
   "id": "859db5ee",
   "metadata": {},
   "outputs": [
    {
     "name": "stdout",
     "output_type": "stream",
     "text": [
      "Chương trình kiểm tra năm nhuần\n",
      "Năm  2020  là năm nhuần\n"
     ]
    }
   ],
   "source": [
    "# Câu 1: Kiểm tra năm nhậm \n",
    "print(\"Chương trình kiểm tra năm nhuần\")\n",
    "year=int(input(\"Mời bạn nhập vào 1 năm:\"))\n",
    "if (year % 4 ==0 and year % 100 != 0) or year % 400 == 0:\n",
    " print(\"Năm \", year, \" là năm nhuần\")\n",
    "else:\n",
    " print(\"Năm \", year, \" không nhuần\")"
   ]
  },
  {
   "cell_type": "code",
   "execution_count": 10,
   "id": "871c8fd0",
   "metadata": {},
   "outputs": [
    {
     "name": "stdout",
     "output_type": "stream",
     "text": [
      "Chương trình đếm số ngày trong tháng\n",
      "Tháng  12  có 31 ngày\n"
     ]
    }
   ],
   "source": [
    "# Câu 2: Đếm số ngày trong tháng \n",
    "print(\"Chương trình đếm số ngày trong tháng\")\n",
    "month=int(input(\"Nhập vào 1 tháng:\"))\n",
    "if month in (1,3,5,7,8,10,12):\n",
    " print(\"Tháng \", month, \" có 31 ngày\")\n",
    "elif month in (4,6,9,11):\n",
    " print(\"Tháng \", month, \" có 30 ngày\")\n",
    "elif month==2:\n",
    " year=int(input(\"Mời bạn nhập vào năm:\"))\n",
    " if (year % 4 ==0 and year % 100 != 0) or year % 400 == 0:\n",
    "    print(\"Tháng \",month, \" có 29 ngày\")\n",
    " else:\n",
    "    print(\"Tháng \", month, \" có 28 ngày\")\n",
    "else:\n",
    "     print(\"Tháng \", month, \" không hợp lệ\")"
   ]
  },
  {
   "cell_type": "code",
   "execution_count": 15,
   "id": "079e0987",
   "metadata": {},
   "outputs": [
    {
     "name": "stdout",
     "output_type": "stream",
     "text": [
      "Chương trình giải phương thình bậc 2: \n",
      "Phương trình vô số nghiệm \n"
     ]
    }
   ],
   "source": [
    "# Câu 3: Chương trình bậc 2 (ax^2+bx+c=0)\n",
    "from math import sqrt\n",
    "print (\"Chương trình giải phương thình bậc 2: \")\n",
    "a=float(input(\"Nhập a:\"))\n",
    "b=float(input(\"Nhập b:\"))\n",
    "c=float(input(\"Nhập c:\"))\n",
    "\n",
    "if a==0 : \n",
    "    if b==0 and c==0:\n",
    "        print (\"Phương trình vô số nghiệm \")\n",
    "    elif b==0 and c!=0:\n",
    "        print (\"Phương thình vô nghiệm \")\n",
    "    else:\n",
    "        x=-c/b\n",
    "        print(\"Nghiệm x =\",x)\n",
    "else:\n",
    "    delta = b**2 - 4*a*c\n",
    "    if delta < 0:\n",
    "        print (\"Phương trình vô nghiệm\")\n",
    "    elif delta ==0:\n",
    "        x=-b/(2*a)\n",
    "        print(\"No kép x1=x2=\",x)\n",
    "    else:\n",
    "        x1=(-b-sqrt(delta))/(2*a)\n",
    "        x2=(-b+sqrt(delta))/(2*a)\n",
    "        print(\"x1=\",x1)\n",
    "        print(\"x2=\",x2)\n",
    "\n"
   ]
  },
  {
   "cell_type": "code",
   "execution_count": 16,
   "id": "dc48780e",
   "metadata": {},
   "outputs": [
    {
     "name": "stdout",
     "output_type": "stream",
     "text": [
      "(a) True\n",
      "(b) True\n",
      "(c) False\n",
      "(d) True\n",
      "(e) False\n",
      "(f) True\n",
      "(g) True\n",
      "(h) False\n",
      "(i) False\n",
      "(j) True\n",
      "(k) True\n",
      "(l) False\n"
     ]
    }
   ],
   "source": [
    "# Câu 4:  Boolean Expression\n",
    "x, y, z = 3, 5, 7\n",
    "\n",
    "print(\"(a)\", x == 3)          # True\n",
    "print(\"(b)\", x < y)           # True\n",
    "print(\"(c)\", x >= y)          # False\n",
    "print(\"(d)\", x <= y)          # True\n",
    "print(\"(e)\", x != y - 2)      # False (vì 3 == 3)\n",
    "print(\"(f)\", x < 10)          # True\n",
    "print(\"(g)\", x >= 0 and x < 10) # True\n",
    "print(\"(h)\", x < 0 and x < 10)  # False (vì x không < 0)\n",
    "print(\"(i)\", x >= 0 and x < 2)  # False\n",
    "print(\"(j)\", x < 0 or x < 10)   # True (vì x < 10)\n",
    "print(\"(k)\", x > 0 or x < 10)   # True (vì x > 0)\n",
    "print(\"(l)\", x < 0 or x > 10)   # False\n"
   ]
  },
  {
   "cell_type": "code",
   "execution_count": 19,
   "id": "fafe77a8",
   "metadata": {},
   "outputs": [
    {
     "name": "stdout",
     "output_type": "stream",
     "text": [
      "Trường hợp 1:\n",
      "i=5, j=5, k=7\n",
      "\n",
      "Trường hợp 2:\n",
      "i=3, j=5, k=5\n",
      "\n",
      "Trường hợp 3:\n",
      "i=7, j=3, k=7\n",
      "\n",
      "Trường hợp 4:\n",
      "i=5, j=3, k=3\n",
      "\n",
      "Trường hợp 5:\n",
      "i=5, j=3, k=5\n",
      "\n",
      "Trường hợp 6:\n",
      "i=7, j=7, k=3\n",
      "\n"
     ]
    }
   ],
   "source": [
    "# Câu 5: Hãy cho biết kết quả xuất ra màn hình\n",
    "def test_values(i, j, k):\n",
    "    if i < j:\n",
    "        if j < k:\n",
    "            i = j\n",
    "        else:\n",
    "            j = k\n",
    "    else:\n",
    "        if j > k:\n",
    "            j = i\n",
    "        else:\n",
    "            i = k\n",
    "    print(f\"i={i}, j={j}, k={k}\")\n",
    "\n",
    "# Danh sách các bộ giá trị\n",
    "cases = [\n",
    "    (3, 5, 7),  # a\n",
    "    (3, 7, 5),  # b\n",
    "    (5, 3, 7),  # c\n",
    "    (5, 7, 3),  # d\n",
    "    (7, 3, 5),  # e\n",
    "    (7, 5, 3)   # f\n",
    "]\n",
    "\n",
    "# Chạy từng trường hợp\n",
    "for idx, (i, j, k) in enumerate(cases, start=1):\n",
    "    print(f\"Trường hợp {idx}:\")\n",
    "    test_values(i, j, k)\n",
    "    print()\n"
   ]
  },
  {
   "cell_type": "code",
   "execution_count": 25,
   "id": "98b8a4c3",
   "metadata": {},
   "outputs": [
    {
     "name": "stdout",
     "output_type": "stream",
     "text": [
      "Cách đọc: bốn mươi lăm\n"
     ]
    }
   ],
   "source": [
    "# Câu 6: Nhập một số n có tối đa 2 chữ số. Hãy cho biết cách đọc ra dạng chữ. (vd: n=35 => Ba mươi lăm, n=5 => năm). \n",
    "def doc_so(n):\n",
    "    chu_so = [\"không\", \"một\", \"hai\", \"ba\", \"bốn\", \"năm\", \"sáu\", \"bảy\", \"tám\", \"chín\"]\n",
    "\n",
    "    if n < 10:\n",
    "        return chu_so[n]\n",
    "\n",
    "    elif n < 20:\n",
    "        if n == 10:\n",
    "            return \"mười\"\n",
    "        elif n == 15:\n",
    "            return \"mười lăm\"\n",
    "        else:\n",
    "            return \"mười \" + chu_so[n % 10]\n",
    "\n",
    "    else:\n",
    "        hang_chuc = n // 10\n",
    "        hang_donvi = n % 10\n",
    "\n",
    "        if hang_chuc == 1:\n",
    "            tien_to = \"mười\"\n",
    "        else:\n",
    "            tien_to = chu_so[hang_chuc] + \" mươi\"\n",
    "\n",
    "        if hang_donvi == 0:\n",
    "            return tien_to\n",
    "        elif hang_donvi == 1:\n",
    "            return tien_to + \" mốt\"\n",
    "        elif hang_donvi == 4:\n",
    "            return tien_to + \" tư\"\n",
    "        elif hang_donvi == 5:\n",
    "            return tien_to + \" lăm\"\n",
    "        else:\n",
    "            return tien_to + \" \" + chu_so[hang_donvi]\n",
    "\n",
    "\n",
    "# --- Chương trình chính ---\n",
    "n = int(input(\"Nhập vào một số (0-99): \"))\n",
    "if 0 <= n <= 99:\n",
    "    print(\"Cách đọc:\", doc_so(n))\n",
    "else:\n",
    "    print(\"Chỉ hỗ trợ số từ 0 đến 99.\")\n"
   ]
  },
  {
   "cell_type": "code",
   "execution_count": 27,
   "id": "07dfa98f",
   "metadata": {},
   "outputs": [
    {
     "name": "stdout",
     "output_type": "stream",
     "text": [
      "Ngày kế tiếp là: 01/01/2021\n"
     ]
    }
   ],
   "source": [
    "# Câu 7: Tìm ngày kế tiếp\n",
    "import datetime\n",
    "\n",
    "def ngay_ke_tiep(ngay, thang, nam):\n",
    "    d = datetime.date(nam, thang, ngay)\n",
    "    d_next = d + datetime.timedelta(days=1)\n",
    "    return d_next.strftime(\"%d/%m/%Y\")\n",
    "\n",
    "# --- Chương trình chính ---\n",
    "ngay = int(input(\"Nhập ngày: \"))\n",
    "thang = int(input(\"Nhập tháng: \"))\n",
    "nam = int(input(\"Nhập năm: \"))\n",
    "\n",
    "print(\"Ngày kế tiếp là:\", ngay_ke_tiep(ngay, thang, nam))\n"
   ]
  },
  {
   "cell_type": "code",
   "execution_count": 29,
   "id": "0eb86fb7",
   "metadata": {},
   "outputs": [
    {
     "name": "stdout",
     "output_type": "stream",
     "text": [
      "Kết quả: 3.0\n"
     ]
    }
   ],
   "source": [
    "#Câu 8: Nhập vào 2 giá trị a, b và phép toán ‘+’, ‘-’, ‘*’, ‘/’ . Hãy xuất kết quả theo đúng phép toán đã nhập\n",
    "def phep_toan(a, b, op):\n",
    "    if op == '+':\n",
    "        return a + b\n",
    "    elif op == '-':\n",
    "        return a - b\n",
    "    elif op == '*':\n",
    "        return a * b\n",
    "    elif op == '/':\n",
    "        if b != 0:\n",
    "            return a / b\n",
    "        else:\n",
    "            return \"Không thể chia cho 0\"\n",
    "    else:\n",
    "        return \"Phép toán không hợp lệ\"\n",
    "\n",
    "# --- Chương trình chính ---\n",
    "a = float(input(\"Nhập số thứ nhất: \"))\n",
    "b = float(input(\"Nhập số thứ hai: \"))\n",
    "op = input(\"Nhập phép toán (+, -, *, /): \")\n",
    "\n",
    "print(\"Kết quả:\", phep_toan(a, b, op))\n"
   ]
  },
  {
   "cell_type": "code",
   "execution_count": 30,
   "id": "968d92a2",
   "metadata": {},
   "outputs": [
    {
     "name": "stdout",
     "output_type": "stream",
     "text": [
      "Tháng 5 thuộc Quý 2\n"
     ]
    }
   ],
   "source": [
    "# Câu 9: Nhập vào 1 tháng, xuất ra tháng đó thuộc quý mấy trong năm.\n",
    "def xac_dinh_quy(thang):\n",
    "    if 1 <= thang <= 3:\n",
    "        return \"Quý 1\"\n",
    "    elif 4 <= thang <= 6:\n",
    "        return \"Quý 2\"\n",
    "    elif 7 <= thang <= 9:\n",
    "        return \"Quý 3\"\n",
    "    elif 10 <= thang <= 12:\n",
    "        return \"Quý 4\"\n",
    "    else:\n",
    "        return \"Tháng không hợp lệ\"\n",
    "\n",
    "# --- Chương trình chính ---\n",
    "thang = int(input(\"Nhập vào tháng (1-12): \"))\n",
    "print(\"Tháng\", thang, \"thuộc\", xac_dinh_quy(thang))\n"
   ]
  },
  {
   "cell_type": "code",
   "execution_count": 32,
   "id": "cbd28bc6",
   "metadata": {},
   "outputs": [
    {
     "name": "stdout",
     "output_type": "stream",
     "text": [
      "S(3, 4) = 15.375\n"
     ]
    }
   ],
   "source": [
    "#Câu 10: Tính dãy số\n",
    "def tinh_day_so(x, n):\n",
    "    s = 0\n",
    "    for i in range(1, n+1):\n",
    "        # tử số\n",
    "        tu = x**i  \n",
    "        # mẫu số (tính giai thừa i!)\n",
    "        mau = 1\n",
    "        for j in range(1, i+1):\n",
    "            mau *= j\n",
    "        # cộng vào tổng\n",
    "        s += tu / mau\n",
    "    return s\n",
    "\n",
    "# --- Chương trình chính ---\n",
    "x = int(input(\"Nhập x: \"))\n",
    "n = int(input(\"Nhập n: \"))\n",
    "\n",
    "ket_qua = tinh_day_so(x, n)\n",
    "print(f\"S({x}, {n}) = {ket_qua}\")\n"
   ]
  },
  {
   "cell_type": "code",
   "execution_count": 36,
   "id": "a66e662e",
   "metadata": {},
   "outputs": [
    {
     "name": "stdout",
     "output_type": "stream",
     "text": [
      "4 không là số nguyên tố\n",
      "2 là số nguyên tố\n",
      "Kết thúc!\n"
     ]
    }
   ],
   "source": [
    "#Câu 11: Kiểm tra số nguyên tố\n",
    "def songuyento(n):\n",
    "    if n<2:\n",
    "        return False\n",
    "    for i in range(2, int(n**0.5)+1):\n",
    "        if n%i==0:\n",
    "            return False \n",
    "    return True\n",
    "\n",
    "# --- Chương trình chính ---\n",
    "while True:\n",
    "    n = int(input(\"Nhập 1 số nguyên dương: \"))\n",
    "\n",
    "    if songuyento(n):\n",
    "        print(n, \"là số nguyên tố\")\n",
    "    else:\n",
    "        print(n, \"không là số nguyên tố\")\n",
    "\n",
    "    hoi = input(\"Bạn có muốn tiếp tục không? (c/k): \")\n",
    "    if hoi.lower() == \"k\":\n",
    "        print(\"Kết thúc!\")\n",
    "        break"
   ]
  },
  {
   "cell_type": "code",
   "execution_count": 37,
   "id": "607ef96b",
   "metadata": {},
   "outputs": [
    {
     "name": "stdout",
     "output_type": "stream",
     "text": [
      "2 *  1 =  2\t3 *  1 =  3\t4 *  1 =  4\t5 *  1 =  5\t6 *  1 =  6\t7 *  1 =  7\t8 *  1 =  8\t9 *  1 =  9\t\n",
      "2 *  2 =  4\t3 *  2 =  6\t4 *  2 =  8\t5 *  2 = 10\t6 *  2 = 12\t7 *  2 = 14\t8 *  2 = 16\t9 *  2 = 18\t\n",
      "2 *  3 =  6\t3 *  3 =  9\t4 *  3 = 12\t5 *  3 = 15\t6 *  3 = 18\t7 *  3 = 21\t8 *  3 = 24\t9 *  3 = 27\t\n",
      "2 *  4 =  8\t3 *  4 = 12\t4 *  4 = 16\t5 *  4 = 20\t6 *  4 = 24\t7 *  4 = 28\t8 *  4 = 32\t9 *  4 = 36\t\n",
      "2 *  5 = 10\t3 *  5 = 15\t4 *  5 = 20\t5 *  5 = 25\t6 *  5 = 30\t7 *  5 = 35\t8 *  5 = 40\t9 *  5 = 45\t\n",
      "2 *  6 = 12\t3 *  6 = 18\t4 *  6 = 24\t5 *  6 = 30\t6 *  6 = 36\t7 *  6 = 42\t8 *  6 = 48\t9 *  6 = 54\t\n",
      "2 *  7 = 14\t3 *  7 = 21\t4 *  7 = 28\t5 *  7 = 35\t6 *  7 = 42\t7 *  7 = 49\t8 *  7 = 56\t9 *  7 = 63\t\n",
      "2 *  8 = 16\t3 *  8 = 24\t4 *  8 = 32\t5 *  8 = 40\t6 *  8 = 48\t7 *  8 = 56\t8 *  8 = 64\t9 *  8 = 72\t\n",
      "2 *  9 = 18\t3 *  9 = 27\t4 *  9 = 36\t5 *  9 = 45\t6 *  9 = 54\t7 *  9 = 63\t8 *  9 = 72\t9 *  9 = 81\t\n",
      "2 * 10 = 20\t3 * 10 = 30\t4 * 10 = 40\t5 * 10 = 50\t6 * 10 = 60\t7 * 10 = 70\t8 * 10 = 80\t9 * 10 = 90\t\n"
     ]
    }
   ],
   "source": [
    "#Câu 12: Xuất bảng cửu chương\n",
    "\n",
    "# Xuất bảng cửu chương từ 2 -> 9\n",
    "for i in range(1, 11):       # i chạy từ 1 đến 10\n",
    "    for j in range(2, 10):   # j chạy từ 2 đến 9\n",
    "        line = \"{0} * {1:>2} = {2:>2}\".format(j, i, j*i)\n",
    "        print(line, end=\"\\t\")   # in ngang có tab\n",
    "    print()   # xuống dòng sau mỗi i\n"
   ]
  },
  {
   "cell_type": "code",
   "execution_count": 41,
   "id": "f23abadc",
   "metadata": {},
   "outputs": [
    {
     "name": "stdout",
     "output_type": "stream",
     "text": [
      "****************************************************************************************************\n",
      "Tổng số sao in ra được là:  100\n"
     ]
    }
   ],
   "source": [
    "#Câu 13: Cho biết bao nhiêu dấu * được in ra trên màn hình\n",
    "\n",
    "a = 0\n",
    "while a < 100:\n",
    "    print('*', end='')  # in ra dấu * liên tục trên 1 dòng\n",
    "    a += 1              # tăng biến a lên 1 sau mỗi lần lặp\n",
    "print(\"\\nTổng số sao in ra được là: \", a)  # xuống dòng\n"
   ]
  },
  {
   "cell_type": "code",
   "execution_count": 55,
   "id": "0a55d41b",
   "metadata": {},
   "outputs": [
    {
     "name": "stdout",
     "output_type": "stream",
     "text": [
      "* * * * * * * * * * * * * * * * * * * * \n",
      " * * * * * * * * * * * * * * * * * * * *\n",
      "* * * * * * * * * * * * * * * * * * * * \n",
      " * * * * * * * * * * * * * * * * * * * *\n",
      "* * * * * * * * * * * * * * * * * * * * \n",
      " * * * * * * * * * * * * * * * * * * * *\n",
      "* * * * * * * * * * * * * * * * * * * * \n",
      " * * * * * * * * * * * * * * * * * * * *\n",
      "* * * * * * * * * * * * * * * * * * * * \n",
      " * * * * * * * * * * * * * * * * * * * *\n",
      "* * * * * * * * * * * * * * * * * * * * \n",
      " * * * * * * * * * * * * * * * * * * * *\n",
      "* * * * * * * * * * * * * * * * * * * * \n",
      " * * * * * * * * * * * * * * * * * * * *\n",
      "* * * * * * * * * * * * * * * * * * * * \n",
      " * * * * * * * * * * * * * * * * * * * *\n",
      "* * * * * * * * * * * * * * * * * * * * \n",
      " * * * * * * * * * * * * * * * * * * * *\n",
      "* * * * * * * * * * * * * * * * * * * * \n",
      " * * * * * * * * * * * * * * * * * * * *\n",
      "* * * * * * * * * * * * * * * * * * * * \n",
      " * * * * * * * * * * * * * * * * * * * *\n",
      "* * * * * * * * * * * * * * * * * * * * \n",
      " * * * * * * * * * * * * * * * * * * * *\n",
      "* * * * * * * * * * * * * * * * * * * * \n",
      " * * * * * * * * * * * * * * * * * * * *\n",
      "* * * * * * * * * * * * * * * * * * * * \n",
      " * * * * * * * * * * * * * * * * * * * *\n",
      "* * * * * * * * * * * * * * * * * * * * \n",
      " * * * * * * * * * * * * * * * * * * * *\n",
      "* * * * * * * * * * * * * * * * * * * * \n",
      " * * * * * * * * * * * * * * * * * * * *\n",
      "* * * * * * * * * * * * * * * * * * * * \n",
      " * * * * * * * * * * * * * * * * * * * *\n",
      "* * * * * * * * * * * * * * * * * * * * \n",
      " * * * * * * * * * * * * * * * * * * * *\n",
      "* * * * * * * * * * * * * * * * * * * * \n",
      " * * * * * * * * * * * * * * * * * * * *\n",
      "* * * * * * * * * * * * * * * * * * * * \n",
      " * * * * * * * * * * * * * * * * * * * *\n",
      "* * * * * * * * * * * * * * * * * * * * \n",
      " * * * * * * * * * * * * * * * * * * * *\n",
      "* * * * * * * * * * * * * * * * * * * * \n",
      " * * * * * * * * * * * * * * * * * * * *\n",
      "* * * * * * * * * * * * * * * * * * * * \n",
      " * * * * * * * * * * * * * * * * * * * *\n",
      "* * * * * * * * * * * * * * * * * * * * \n",
      " * * * * * * * * * * * * * * * * * * * *\n",
      "* * * * * * * * * * * * * * * * * * * * \n",
      " * * * * * * * * * * * * * * * * * * * *\n",
      "* * * * * * * * * * * * * * * * * * * * \n",
      " * * * * * * * * * * * * * * * * * * * *\n",
      "* * * * * * * * * * * * * * * * * * * * \n",
      " * * * * * * * * * * * * * * * * * * * *\n",
      "* * * * * * * * * * * * * * * * * * * * \n",
      " * * * * * * * * * * * * * * * * * * * *\n",
      "* * * * * * * * * * * * * * * * * * * * \n",
      " * * * * * * * * * * * * * * * * * * * *\n",
      "* * * * * * * * * * * * * * * * * * * * \n",
      " * * * * * * * * * * * * * * * * * * * *\n",
      "* * * * * * * * * * * * * * * * * * * * \n",
      " * * * * * * * * * * * * * * * * * * * *\n",
      "* * * * * * * * * * * * * * * * * * * * \n",
      " * * * * * * * * * * * * * * * * * * * *\n",
      "* * * * * * * * * * * * * * * * * * * * \n",
      " * * * * * * * * * * * * * * * * * * * *\n",
      "* * * * * * * * * * * * * * * * * * * * \n",
      " * * * * * * * * * * * * * * * * * * * *\n",
      "* * * * * * * * * * * * * * * * * * * * \n",
      " * * * * * * * * * * * * * * * * * * * *\n",
      "* * * * * * * * * * * * * * * * * * * * \n",
      " * * * * * * * * * * * * * * * * * * * *\n",
      "* * * * * * * * * * * * * * * * * * * * \n",
      " * * * * * * * * * * * * * * * * * * * *\n",
      "* * * * * * * * * * * * * * * * * * * * \n",
      " * * * * * * * * * * * * * * * * * * * *\n",
      "* * * * * * * * * * * * * * * * * * * * \n",
      " * * * * * * * * * * * * * * * * * * * *\n",
      "* * * * * * * * * * * * * * * * * * * * \n",
      " * * * * * * * * * * * * * * * * * * * *\n",
      "* * * * * * * * * * * * * * * * * * * * \n",
      " * * * * * * * * * * * * * * * * * * * *\n",
      "* * * * * * * * * * * * * * * * * * * * \n",
      " * * * * * * * * * * * * * * * * * * * *\n",
      "* * * * * * * * * * * * * * * * * * * * \n",
      " * * * * * * * * * * * * * * * * * * * *\n",
      "* * * * * * * * * * * * * * * * * * * * \n",
      " * * * * * * * * * * * * * * * * * * * *\n",
      "* * * * * * * * * * * * * * * * * * * * \n",
      " * * * * * * * * * * * * * * * * * * * *\n",
      "* * * * * * * * * * * * * * * * * * * * \n",
      " * * * * * * * * * * * * * * * * * * * *\n",
      "* * * * * * * * * * * * * * * * * * * * \n",
      " * * * * * * * * * * * * * * * * * * * *\n",
      "* * * * * * * * * * * * * * * * * * * * \n",
      " * * * * * * * * * * * * * * * * * * * *\n",
      "* * * * * * * * * * * * * * * * * * * * \n",
      " * * * * * * * * * * * * * * * * * * * *\n",
      "* * * * * * * * * * * * * * * * * * * * \n",
      " * * * * * * * * * * * * * * * * * * * *\n",
      "\n",
      "Tổng số dấu * in ra: 2000\n"
     ]
    }
   ],
   "source": [
    "#Câu 14: Cho biết bao nhiêu dấu * được in ra trên màn hình\n",
    "a = 0\n",
    "count = 0  # biến đếm số sao\n",
    "\n",
    "while a < 100:       # lặp 100 lần (100 dòng)\n",
    "    b = 0\n",
    "    while b < 40:    # mỗi dòng có 40 cột\n",
    "        if (a + b) % 2 == 0:   # nếu tổng a+b chia hết cho 2\n",
    "            print('*', end='') \n",
    "            count += 1         # tăng biến đếm khi in *\n",
    "        else:\n",
    "            print(' ', end='') \n",
    "        b += 1\n",
    "    print()  # xuống dòng sau khi xong 1 hàng\n",
    "    a += 1\n",
    "\n",
    "print(\"\\nTổng số dấu * in ra:\", count)\n"
   ]
  },
  {
   "cell_type": "code",
   "execution_count": 56,
   "id": "31f810df",
   "metadata": {},
   "outputs": [
    {
     "name": "stdout",
     "output_type": "stream",
     "text": [
      "a) range(5): [0, 1, 2, 3, 4]\n",
      "b) range(5, 10): [5, 6, 7, 8, 9]\n",
      "c) range(5, 20, 3): [5, 8, 11, 14, 17]\n",
      "d) range(20, 5, -1): [20, 19, 18, 17, 16, 15, 14, 13, 12, 11, 10, 9, 8, 7, 6]\n",
      "e) range(20, 5, -3): [20, 17, 14, 11, 8]\n",
      "f) range(10, 5): []\n",
      "g) range(0): []\n",
      "h) range(10, 101, 10): [10, 20, 30, 40, 50, 60, 70, 80, 90, 100]\n",
      "i) range(10, -1, -1): [10, 9, 8, 7, 6, 5, 4, 3, 2, 1, 0]\n",
      "j) range(-3, 4): [-3, -2, -1, 0, 1, 2, 3]\n",
      "k) range(0, 10, 1): [0, 1, 2, 3, 4, 5, 6, 7, 8, 9]\n"
     ]
    }
   ],
   "source": [
    "#Câu 15: Giải thích cách chạy các dòng lệnh range\n",
    "\n",
    "print(\"a) range(5):\", list(range(5)))\n",
    "print(\"b) range(5, 10):\", list(range(5, 10)))\n",
    "print(\"c) range(5, 20, 3):\", list(range(5, 20, 3)))\n",
    "print(\"d) range(20, 5, -1):\", list(range(20, 5, -1)))\n",
    "print(\"e) range(20, 5, -3):\", list(range(20, 5, -3)))\n",
    "print(\"f) range(10, 5):\", list(range(10, 5)))\n",
    "print(\"g) range(0):\", list(range(0)))\n",
    "print(\"h) range(10, 101, 10):\", list(range(10, 101, 10)))\n",
    "print(\"i) range(10, -1, -1):\", list(range(10, -1, -1)))\n",
    "print(\"j) range(-3, 4):\", list(range(-3, 4)))\n",
    "print(\"k) range(0, 10, 1):\", list(range(0, 10, 1)))\n",
    "\n"
   ]
  },
  {
   "cell_type": "code",
   "execution_count": 59,
   "id": "73f1b9d0",
   "metadata": {},
   "outputs": [
    {
     "name": "stdout",
     "output_type": "stream",
     "text": [
      "****************\n",
      "Tổng số lương * la:  95\n"
     ]
    }
   ],
   "source": [
    "#Câu 16:Cho biết bao nhiêu dấu * được in ra trên màn hình\n",
    "for a in range(20, 100, 5):\n",
    "    print('*', end='')\n",
    "print(\"\\nTổng số lương * la: \",a)\n",
    "\n"
   ]
  },
  {
   "cell_type": "code",
   "execution_count": 61,
   "id": "ce157c07",
   "metadata": {},
   "outputs": [
    {
     "name": "stdout",
     "output_type": "stream",
     "text": [
      "n = 1\n",
      "n = 2\n",
      "n = 3\n",
      "n = 45\n",
      "n = 22\n",
      "n = 344\n"
     ]
    }
   ],
   "source": [
    "#Câu 17: Viết lại coding dưới đây bằng cách dùng từ khóa break thay thế cho biếndone\n",
    "#done = False\n",
    "#n, m = 0, 100\n",
    "#while not done and n != m:\n",
    "#    n = int(input())\n",
    "#    if n < 0:\n",
    "#        done = True\n",
    "#    print(\"n =\", n) \n",
    "n, m = 0, 100\n",
    "while n != m:\n",
    "    n = int(input())\n",
    "    if n < 0:\n",
    "        break\n",
    "    print(\"n =\", n)\n",
    "\n"
   ]
  },
  {
   "cell_type": "code",
   "execution_count": 71,
   "id": "3509bd51",
   "metadata": {},
   "outputs": [
    {
     "name": "stdout",
     "output_type": "stream",
     "text": [
      "\n",
      "Hình 1:\n",
      "* * * * * \n",
      "*       * \n",
      "*       * \n",
      "*       * \n",
      "* * * * * \n",
      "\n",
      "Hình 2:\n",
      "*         \n",
      "* *       \n",
      "*   *     \n",
      "*     *   \n",
      "*       * \n",
      "\n",
      "Hình 3:\n",
      "        * \n",
      "      * * \n",
      "    *   * \n",
      "  *     * \n",
      "*       * \n",
      "\n",
      "Hình 4:\n",
      "* * * * * \n",
      "  *     * \n",
      "    *   * \n",
      "      * * \n",
      "        * \n",
      "\n",
      "Hình 5:\n",
      "*       * \n",
      "*     *   \n",
      "*   *     \n",
      "* *       \n",
      "* * * * * \n"
     ]
    }
   ],
   "source": [
    "#Câu 18: Vẽ các hình dưới đây\n",
    "def hinh_1(n):\n",
    "    # Hình chữ nhật rỗng: khung viền\n",
    "    for i in range(n):\n",
    "        for j in range(n):\n",
    "            if i == 0 or i == n - 1 or j == 0 or j == n - 1:\n",
    "                print('*', end=' ')\n",
    "            else:\n",
    "                print(' ', end=' ')\n",
    "        print()\n",
    "\n",
    "def hinh_2(n):\n",
    "    # Hình tam giác vuông trái dưới: cạnh huyền đi lên\n",
    "    for i in range(n):\n",
    "        for j in range(n):\n",
    "            if j == 0 or j == i:\n",
    "                print('*', end=' ')\n",
    "            else:\n",
    "                print(' ', end=' ')\n",
    "        print()\n",
    "\n",
    "def hinh_3(n):\n",
    "    # Hình tam giác vuông phải dưới: cạnh huyền đi xuống\n",
    "    for i in range(n):\n",
    "        for j in range(n):\n",
    "            if j == n - 1 or j == n - i - 1:\n",
    "                print('*', end=' ')\n",
    "            else:\n",
    "                print(' ', end=' ')\n",
    "        print()\n",
    "\n",
    "def hinh_4(n):\n",
    "    # Hình tam giác trên, đáy phải, đường chéo chính\n",
    "    for i in range(n):\n",
    "        for j in range(n):\n",
    "            if i == 0 or j == n - 1 or i == j:\n",
    "                print('*', end=' ')\n",
    "            else:\n",
    "                print(' ', end=' ')\n",
    "        print()\n",
    "\n",
    "def hinh_5(n):\n",
    "    # Hình tam giác dưới, cạnh trái, đường chéo phụ\n",
    "    for i in range(n):\n",
    "        for j in range(n):\n",
    "            if j == 0 or i == n - 1 or i + j == n - 1:\n",
    "                print('*', end=' ')\n",
    "            else:\n",
    "                print(' ', end=' ')\n",
    "        print()\n",
    "\n",
    "# Gọi từng hình một\n",
    "def main():\n",
    "    n = int(input(\"Nhập chiều cao n: \"))\n",
    "\n",
    "    print(\"\\nHình 1:\")\n",
    "    hinh_1(n)\n",
    "\n",
    "    print(\"\\nHình 2:\")\n",
    "    hinh_2(n)\n",
    "\n",
    "    print(\"\\nHình 3:\")\n",
    "    hinh_3(n)\n",
    "\n",
    "    print(\"\\nHình 4:\")\n",
    "    hinh_4(n)\n",
    "\n",
    "    print(\"\\nHình 5:\")\n",
    "    hinh_5(n)\n",
    "\n",
    "main()\n"
   ]
  },
  {
   "cell_type": "code",
   "execution_count": null,
   "id": "5a0683db",
   "metadata": {},
   "outputs": [
    {
     "name": "stdout",
     "output_type": "stream",
     "text": [
      "S(4.0, 5) = 27.2782683982684\n"
     ]
    }
   ],
   "source": [
    "#Câu 19: Tính giá trị biểu thức S\n",
    "import math\n",
    "\n",
    "def tinh_S(x, n):\n",
    "    S = 0\n",
    "    for i in range(n + 1):\n",
    "        mu = 2 * i + 1\n",
    "        S += x**mu / math.factorial(mu)\n",
    "    return S\n",
    "\n",
    "# Nhập từ bàn phím\n",
    "try:\n",
    "    x = float(input(\"Nhập giá trị x: \"))\n",
    "    n = int(input(\"Nhập giá trị n (số nguyên dương): \"))\n",
    "    if n < 0:\n",
    "        print(\"n phải là số nguyên không âm!\")\n",
    "    else:\n",
    "        ket_qua = tinh_S(x, n)\n",
    "        print(f\"S({x}, {n}) = {ket_qua}\")\n",
    "except ValueError:\n",
    "    print(\"Vui lòng nhập đúng định dạng số.\")\n"
   ]
  }
 ],
 "metadata": {
  "kernelspec": {
   "display_name": "Python 3",
   "language": "python",
   "name": "python3"
  },
  "language_info": {
   "codemirror_mode": {
    "name": "ipython",
    "version": 3
   },
   "file_extension": ".py",
   "mimetype": "text/x-python",
   "name": "python",
   "nbconvert_exporter": "python",
   "pygments_lexer": "ipython3",
   "version": "3.13.7"
  }
 },
 "nbformat": 4,
 "nbformat_minor": 5
}
